{
 "cells": [
  {
   "cell_type": "markdown",
   "id": "0672f2c4",
   "metadata": {},
   "source": [
    "# Maximum subarray"
   ]
  },
  {
   "cell_type": "code",
   "execution_count": 1,
   "id": "cc4c8ad9",
   "metadata": {},
   "outputs": [
    {
     "name": "stdout",
     "output_type": "stream",
     "text": [
      "6\n"
     ]
    }
   ],
   "source": [
    "# Find max sum of contiguous sub array\n",
    "\n",
    "nums = [-2,1,-3,4,-1,2,1,-5,4]\n",
    "\n",
    "current_sum, max_sum = 0, float('-inf')\n",
    "\n",
    "for num in nums:\n",
    "    current_sum += num\n",
    "    max_sum = max(current_sum,max_sum)\n",
    "    if current_sum < 0:\n",
    "        current_sum =0\n",
    "\n",
    "print(max_sum)\n",
    "\n"
   ]
  },
  {
   "cell_type": "markdown",
   "id": "a9521092",
   "metadata": {},
   "source": [
    "# Contains Duplicate"
   ]
  },
  {
   "cell_type": "code",
   "execution_count": 7,
   "id": "8816fb67",
   "metadata": {},
   "outputs": [
    {
     "name": "stdout",
     "output_type": "stream",
     "text": [
      "{1, 2, 3}\n",
      "True\n"
     ]
    }
   ],
   "source": [
    "#Return true if the list contains a value more than once\n",
    "\n",
    "nums = [1,2,3,1]\n",
    "\n",
    "s = set()\n",
    "\n",
    "contains_duplicate = False\n",
    "\n",
    "for num in nums:\n",
    "    if num in s:\n",
    "        contains_duplicate = True\n",
    "        break\n",
    "    else:\n",
    "        s.add(num)\n",
    "    contains_duplicate = False\n",
    "\n",
    "print(contains_duplicate)"
   ]
  }
 ],
 "metadata": {
  "kernelspec": {
   "display_name": "Python 3",
   "language": "python",
   "name": "python3"
  },
  "language_info": {
   "codemirror_mode": {
    "name": "ipython",
    "version": 3
   },
   "file_extension": ".py",
   "mimetype": "text/x-python",
   "name": "python",
   "nbconvert_exporter": "python",
   "pygments_lexer": "ipython3",
   "version": "3.8.5"
  }
 },
 "nbformat": 4,
 "nbformat_minor": 5
}
